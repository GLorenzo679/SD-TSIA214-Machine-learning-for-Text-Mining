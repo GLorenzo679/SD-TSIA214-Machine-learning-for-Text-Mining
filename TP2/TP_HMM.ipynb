{
 "cells": [
  {
   "cell_type": "markdown",
   "metadata": {},
   "source": [
    "# TP : Text segmentation using Hidden Markov Models\n"
   ]
  },
  {
   "cell_type": "markdown",
   "metadata": {},
   "source": [
    "## Author:\n",
    "\n",
    "- Gabriele LORENZO\n",
    "- Aldo PIETROMATERA\n"
   ]
  },
  {
   "cell_type": "markdown",
   "metadata": {},
   "source": [
    "## Questions:\n"
   ]
  },
  {
   "cell_type": "markdown",
   "metadata": {},
   "source": [
    "### Q.1. Give the value of the $\\pi$ vector of the initial probabilities:\n",
    "\n",
    "The initial probabilities vector $\\pi$ will be:\n",
    "\n",
    "$$\\pi = \\begin{bmatrix} 1 \\\\ 0 \\end{bmatrix}$$\n",
    "\n",
    "This is beacuse the first state is always the start state.\n"
   ]
  },
  {
   "cell_type": "markdown",
   "metadata": {},
   "source": [
    "### Q.2. : What is the probability to move from state 1 to state 2 What is the probability to remain in state 2? What is the lower/higher probability? Try to explain why.\n",
    "\n",
    "The transition matrix $A$ is:\n",
    "\n",
    "$$A = \\begin{pmatrix} 0.999218078035812 & 0.000781921964187974 \\\\ 0 & 1 \\end{pmatrix}$$\n",
    "\n",
    "The probability to move from state 2 to state 1 is of course 0, because once we are in the body of the email it is impossible to go back to the header. Hence the probability to remain in state 2 is 1.\n",
    "\n",
    "The lower probability is the one to move from state 1 to state 2 (0.000781921964187974), because it is very unlikely to move from the header to the body of the email.\n"
   ]
  },
  {
   "cell_type": "markdown",
   "metadata": {},
   "source": [
    "### Q.3. What is the size of B?\n",
    "\n",
    "The size of B is $256 \\times 2$, because we have 2 states and 256 possible observations. Each row of B contains the probabilities of observing a certain character _c_ in a state _s_.\n"
   ]
  },
  {
   "cell_type": "code",
   "execution_count": 1,
   "metadata": {},
   "outputs": [],
   "source": [
    "import os\n",
    "import glob\n",
    "import numpy as np"
   ]
  },
  {
   "cell_type": "code",
   "execution_count": 2,
   "metadata": {},
   "outputs": [],
   "source": [
    "ROOT = os.path.abspath(\".\")\n",
    "\n",
    "DISTR_DIR = os.path.join(ROOT, \"distribution\")\n",
    "RES_DIR = os.path.join(ROOT, \"res\")\n",
    "DATA_DIR = os.path.join(ROOT, \"dat\")\n",
    "SEGMENTED_DIR = os.path.join(ROOT, \"segmented\")"
   ]
  },
  {
   "cell_type": "markdown",
   "metadata": {},
   "source": [
    "### Coding/Decoding Mails\n"
   ]
  },
  {
   "cell_type": "code",
   "execution_count": 3,
   "metadata": {},
   "outputs": [],
   "source": [
    "# Iterate through files and load the text\n",
    "def files_iter(data_dir, with_filename=False):\n",
    "    files = glob.glob(\"{}/*.dat\".format((data_dir)))\n",
    "\n",
    "    if with_filename:\n",
    "        for f in files:\n",
    "            # Get the filename\n",
    "            filename = f.split(\"\\\\\")[-1].split(\".\")[0]\n",
    "            # Return filename and associated text\n",
    "            yield filename, open(f, \"r\").read()\n",
    "    else:\n",
    "        for f in files:\n",
    "            yield open(f, \"r\").read()"
   ]
  },
  {
   "cell_type": "code",
   "execution_count": 4,
   "metadata": {},
   "outputs": [],
   "source": [
    "# And we get a generator that will allow us to iterate through the mails\n",
    "mail_iter = files_iter(DATA_DIR, with_filename=True)"
   ]
  },
  {
   "cell_type": "markdown",
   "metadata": {},
   "source": [
    "### Distribution files\n"
   ]
  },
  {
   "cell_type": "code",
   "execution_count": 5,
   "metadata": {},
   "outputs": [],
   "source": [
    "# Writing a function to get the probability data\n",
    "def get_emission_prob(p_dir):\n",
    "    return np.loadtxt(p_dir, delimiter=\"\\t\", dtype=float)"
   ]
  },
  {
   "cell_type": "code",
   "execution_count": 6,
   "metadata": {},
   "outputs": [],
   "source": [
    "# Inputs to the Viterbi function\n",
    "trans = np.array([[0.999218078035812, 0.000781921964187974], [0, 1]])\n",
    "emission_prob = get_emission_prob(os.path.join(DISTR_DIR, \"P.text\"))\n",
    "states = np.array([1, 2])\n",
    "start_prob = np.array([1, 0])"
   ]
  },
  {
   "cell_type": "markdown",
   "metadata": {},
   "source": [
    "### To implement:\n"
   ]
  },
  {
   "cell_type": "code",
   "execution_count": 7,
   "metadata": {},
   "outputs": [],
   "source": [
    "# Viterbi function\n",
    "def viterbi(obs, states, start_prob, trans, emission_prob):\n",
    "    \"\"\"\n",
    "    Viterbi Algorithm Implementation\n",
    "\n",
    "    Keyword arguments:\n",
    "        - obs: sequence of observation\n",
    "        - states: list of states\n",
    "        - start_prob: vector of the initial probabilities\n",
    "        - trans: transition matrix\n",
    "        - emission_prob: emission probability matrix\n",
    "    Returns:\n",
    "        - seq: sequence of state\n",
    "    \"\"\"\n",
    "\n",
    "    # Avoid underflow: use the logarithm !\n",
    "    # Avoid 0 in logarithm: use a small constant !\n",
    "    small = np.finfo(np.float64).tiny\n",
    "\n",
    "    start_prob = np.log(start_prob + small)\n",
    "    trans = np.log(trans + small)\n",
    "    emission_prob = np.log(emission_prob + small)\n",
    "\n",
    "    obs = [int(x) for x in obs.split(\"\\n\") if x != \"\"]\n",
    "\n",
    "    # Number of observations\n",
    "    T = len(obs)\n",
    "    # Number of model states\n",
    "    N = len(states)\n",
    "\n",
    "    # Initialisation\n",
    "    log_l = np.zeros((T, N))\n",
    "    bcktr = np.zeros((T, N))\n",
    "\n",
    "    # Viterbi\n",
    "\n",
    "    # Forward loop:\n",
    "    log_l[0, :] = start_prob + emission_prob[obs[0], :]\n",
    "\n",
    "    for t in range(1, T):\n",
    "        for s in range(N):\n",
    "            log_l[t, s] = (\n",
    "                np.max(log_l[t - 1, :] + trans[:, s]) + emission_prob[obs[t], s]\n",
    "            )\n",
    "            bcktr[t, s] = np.argmax(log_l[t - 1, :] + trans[:, s])\n",
    "\n",
    "    # Backward loop\n",
    "    path = np.zeros(T, dtype=int)\n",
    "    path[-1] = np.argmax(log_l[-1, :])\n",
    "\n",
    "    for i in range(T - 1, 0, -1):\n",
    "        path[i - 1] = bcktr[i, path[i]]\n",
    "\n",
    "    return [states[i] for i in path]"
   ]
  },
  {
   "cell_type": "code",
   "execution_count": 8,
   "metadata": {},
   "outputs": [],
   "source": [
    "# Creating a directory to put the result of the viterbi function\n",
    "if not os.path.exists(RES_DIR):\n",
    "    os.mkdir(RES_DIR)\n",
    "\n",
    "\n",
    "# Function that will write a viterbi path for a mail in a dedicated result file\n",
    "def create_viterbi_path_file(mail_name, viterbi_path):\n",
    "    with open(\"{}/{}_path.txt\".format(RES_DIR, mail_name), \"w\") as f:\n",
    "        f.write(\"\".join([str(c) for c in viterbi_path]))"
   ]
  },
  {
   "cell_type": "code",
   "execution_count": 9,
   "metadata": {},
   "outputs": [],
   "source": [
    "# Using our generator, we get the mail names and data\n",
    "for name_file, data in mail_iter:\n",
    "    # Find out the viterbi path using viterbi\n",
    "    viterbi_path = viterbi(data, states, start_prob, trans, emission_prob)\n",
    "    # Put it in the result file\n",
    "    create_viterbi_path_file(name_file, viterbi_path)"
   ]
  },
  {
   "cell_type": "markdown",
   "metadata": {},
   "source": [
    "### Visualizing segmentation\n"
   ]
  },
  {
   "cell_type": "code",
   "execution_count": 10,
   "metadata": {},
   "outputs": [],
   "source": [
    "def visualize_segmentation(mail_filename, visualized_mail_filename, path):\n",
    "    ## @parameter mail_filename : Path to the mail on wich we try the algorithm.\n",
    "    ## @parameter visualized_mail_filename : The path on which we write the mail with the v\n",
    "    ## @parameter path : The sequence of 0 and 1 that the Viterbi algorithm returns.\n",
    "    ## return: True if the header corresponds to the\n",
    "    visu = open(visualized_mail_filename, \"w\")\n",
    "\n",
    "    if mail_filename.endswith(\".dat\"):\n",
    "        mail_filename = mail_filename[:-4] + \".txt\"\n",
    "\n",
    "    mail = open(mail_filename, \"r\")\n",
    "    mail_content = mail.read()\n",
    "    idx_split = len(path) - path.sum() - 1\n",
    "    visu.write(mail_content[:idx_split])\n",
    "    visu.write(\"\\n===================== cut here\\n\")\n",
    "    visu.write(mail_content[idx_split:])\n",
    "    visu.close()\n",
    "    mail.close()\n",
    "\n",
    "    return idx_split"
   ]
  },
  {
   "cell_type": "code",
   "execution_count": 11,
   "metadata": {},
   "outputs": [],
   "source": [
    "# Writing a function getting the original mail, the result of viterbi, and applying the segmentation script\n",
    "# Then putting the result\n",
    "def segment_mail(mail_name, data_dir, res_dir):\n",
    "    # Get the full path of the mail\n",
    "    mail_filename = os.path.join(data_dir, f\"{mail_name}.txt\")\n",
    "    # Get the full path of the result\n",
    "    path_file = os.path.join(res_dir, f\"{mail_name}_path.txt\")\n",
    "\n",
    "    # Read the result\n",
    "    with open(path_file, \"r\") as f:\n",
    "        path_read = f.read()\n",
    "        path = [int(p) - 1 for p in path_read]\n",
    "\n",
    "    path = np.array(path)\n",
    "\n",
    "    # Execute the visualization script\n",
    "    segmented_filename = os.path.join(SEGMENTED_DIR, f\"{mail_name}_segmented.txt\")\n",
    "    idx_split = visualize_segmentation(mail_filename, segmented_filename, path)\n",
    "    print(f\"Mail {mail_name} segmented at index {idx_split} (out of {len(path)})\")\n",
    "    # Get the results\n",
    "    formatted_mail_text = open(segmented_filename, \"r\").read()\n",
    "    # Go through the resulting text until the cutting line\n",
    "    cutting_line = \"\\n===================== cut here\\n\"\n",
    "\n",
    "    if cutting_line in formatted_mail_text:\n",
    "        # If this was not the last line, return the text cut in to parts: header and body\n",
    "        header, body = formatted_mail_text.split(cutting_line, 1)\n",
    "        return header, body\n",
    "    else:\n",
    "        # If not, it's just a header\n",
    "        return formatted_mail_text, None"
   ]
  },
  {
   "cell_type": "code",
   "execution_count": 12,
   "metadata": {},
   "outputs": [
    {
     "name": "stdout",
     "output_type": "stream",
     "text": [
      "Mail mail1 segmented at index 3795 (out of 5216)\n",
      "Mail: mail1\n",
      "Mail mail10 segmented at index 2845 (out of 3715)\n",
      "Mail: mail10\n",
      "Mail mail11 segmented at index 2850 (out of 3475)\n",
      "Mail: mail11\n",
      "Mail mail12 segmented at index 2937 (out of 3993)\n",
      "Mail: mail12\n",
      "Mail mail13 segmented at index 2303 (out of 3328)\n",
      "Mail: mail13\n",
      "Mail mail14 segmented at index 4812 (out of 6576)\n",
      "Mail: mail14\n",
      "Mail mail15 segmented at index 2182 (out of 6808)\n",
      "Mail: mail15\n",
      "Mail mail16 segmented at index 1970 (out of 2627)\n",
      "Mail: mail16\n",
      "Mail mail17 segmented at index 2281 (out of 3425)\n",
      "Mail: mail17\n",
      "Mail mail18 segmented at index 2366 (out of 3077)\n",
      "Mail: mail18\n",
      "Mail mail19 segmented at index 2100 (out of 2620)\n",
      "Mail: mail19\n",
      "Mail mail2 segmented at index 2444 (out of 3376)\n",
      "Mail: mail2\n",
      "Mail mail20 segmented at index 1839 (out of 2434)\n",
      "Mail: mail20\n",
      "Mail mail21 segmented at index 2102 (out of 2664)\n",
      "Mail: mail21\n",
      "Mail mail22 segmented at index 2233 (out of 3643)\n",
      "Mail: mail22\n",
      "Mail mail23 segmented at index 2167 (out of 3750)\n",
      "Mail: mail23\n",
      "Mail mail24 segmented at index 2559 (out of 3701)\n",
      "Mail: mail24\n",
      "Mail mail25 segmented at index 2318 (out of 3238)\n",
      "Mail: mail25\n",
      "Mail mail26 segmented at index 2026 (out of 4467)\n",
      "Mail: mail26\n",
      "Mail mail27 segmented at index 1770 (out of 3148)\n",
      "Mail: mail27\n",
      "Mail mail28 segmented at index 2224 (out of 2541)\n",
      "Mail: mail28\n",
      "Mail mail29 segmented at index 2343 (out of 2890)\n",
      "Mail: mail29\n",
      "Mail mail3 segmented at index 2262 (out of 3934)\n",
      "Mail: mail3\n",
      "Mail mail30 segmented at index 2172 (out of 5160)\n",
      "Mail: mail30\n",
      "Mail mail4 segmented at index 2303 (out of 3424)\n",
      "Mail: mail4\n",
      "Mail mail5 segmented at index 2301 (out of 3386)\n",
      "Mail: mail5\n",
      "Mail mail6 segmented at index 2435 (out of 3211)\n",
      "Mail: mail6\n",
      "Mail mail7 segmented at index 2554 (out of 3848)\n",
      "Mail: mail7\n",
      "Mail mail8 segmented at index 2304 (out of 3558)\n",
      "Mail: mail8\n",
      "Mail mail9 segmented at index 2539 (out of 8625)\n",
      "Mail: mail9\n"
     ]
    }
   ],
   "source": [
    "# Getting mails names\n",
    "mail_names = [name for name, _ in files_iter(DATA_DIR, with_filename=True)]\n",
    "\n",
    "if not os.path.exists(SEGMENTED_DIR):\n",
    "    os.mkdir(SEGMENTED_DIR)\n",
    "\n",
    "# Call the function and look at the result of segmentation\n",
    "for mail_name in mail_names:\n",
    "    header, body = segment_mail(mail_name, DATA_DIR, RES_DIR)\n",
    "    print(\"Mail:\", mail_name)\n",
    "    #print(\"Header:\\n\", header)\n",
    "    #print(\"#\" * 50)\n",
    "    #print(\"Body:\\n\", body)\n",
    "    #print(\"\\n\" * 5)"
   ]
  },
  {
   "cell_type": "markdown",
   "metadata": {},
   "source": [
    "### Q.4. Print the track and present and discuss the results obtained on mail11.txt to mail30.txt.\n",
    "\n",
    "We are going to take as example the mail11.txt and mail30.txt files.\n",
    "\n",
    "For email 11, the segmentation is done at the 2850th character. If we look at the real email, we can see that the header ends at the 2851th character, so the segmentation is almost correct.\n",
    "\n",
    "For email 30, the segmentation is done at the 2172th character. If we look at the real email, we can see that the header ends at the 2250th character. Even if the segmentation is not perfect, it is still very close to the real value.\n"
   ]
  },
  {
   "cell_type": "markdown",
   "metadata": {},
   "source": [
    "### Q.5. How would you model the problem if you had to segment the mails in more than two parts (for example : header, body, signature)? Draw a diagram of the corresponding Hidden Markov model and give an example of A matrix that would be suitable in this case.\n",
    "\n",
    "Let's take the header, body and signature as the three states of the model. The transition matrix $A$ would be:\n",
    "\n",
    "$$A = \\begin{pmatrix} a_{11} & a_{12} & a_{13} \\\\ 0 & a_{22} & a_{23} \\\\ 0 & 0 & 1 \\end{pmatrix}$$\n",
    "\n",
    "As we can see, it is impossible to move from the body to the header or the signature, and it is impossible to move from the signature to the header or the body.\n",
    "The value of $a_{13}$ would be non-zero if we want to allow the possibility of moving from the header to the signature, otherwise it would be 0.\n",
    "\n",
    "The initial probabilities vector $\\pi$ would be:\n",
    "\n",
    "$$\\pi = \\begin{bmatrix} 1 \\\\ 0 \\\\ 0 \\end{bmatrix}$$\n",
    "\n",
    "The emission matrix $B$ would be a $256 \\times 3$ matrix, because we have 3 states and 256 possible observations.\n"
   ]
  },
  {
   "cell_type": "markdown",
   "metadata": {},
   "source": [
    "### Q.6. How would you model the problem of separating the portions of mail included, knowing that they always start with the character \">\". Draw a diagram of the corresponding Hidden Markov model.\n"
   ]
  }
 ],
 "metadata": {
  "kernelspec": {
   "display_name": "Python 3 (ipykernel)",
   "language": "python",
   "name": "python3"
  },
  "language_info": {
   "codemirror_mode": {
    "name": "ipython",
    "version": 3
   },
   "file_extension": ".py",
   "mimetype": "text/x-python",
   "name": "python",
   "nbconvert_exporter": "python",
   "pygments_lexer": "ipython3",
   "version": "3.12.2"
  }
 },
 "nbformat": 4,
 "nbformat_minor": 2
}
